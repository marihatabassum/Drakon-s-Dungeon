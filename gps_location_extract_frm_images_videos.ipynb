{
  "nbformat": 4,
  "nbformat_minor": 0,
  "metadata": {
    "colab": {
      "provenance": [],
      "authorship_tag": "ABX9TyNBiOGbEE1E3YYQJGN6Pawx",
      "include_colab_link": true
    },
    "kernelspec": {
      "name": "python3",
      "display_name": "Python 3"
    },
    "language_info": {
      "name": "python"
    }
  },
  "cells": [
    {
      "cell_type": "markdown",
      "metadata": {
        "id": "view-in-github",
        "colab_type": "text"
      },
      "source": [
        "<a href=\"https://colab.research.google.com/github/marihatabassum/Drakon-s-Dungeon/blob/main/gps_location_extract_frm_images_videos.ipynb\" target=\"_parent\"><img src=\"https://colab.research.google.com/assets/colab-badge.svg\" alt=\"Open In Colab\"/></a>"
      ]
    },
    {
      "cell_type": "code",
      "execution_count": null,
      "metadata": {
        "colab": {
          "base_uri": "https://localhost:8080/"
        },
        "id": "ykZrofgHHPcH",
        "outputId": "42568353-3a58-4423-b897-6279bf8aafa7"
      },
      "outputs": [
        {
          "output_type": "stream",
          "name": "stdout",
          "text": [
            "Mounted at /content/drive\n"
          ]
        }
      ],
      "source": [
        "from google.colab import drive\n",
        "drive.mount(\"/content/drive\")"
      ]
    },
    {
      "cell_type": "code",
      "source": [
        "import pandas as pd\n",
        "import numpy as np\n",
        "import matplotlib.pyplot as plt\n",
        "import os\n",
        "import math"
      ],
      "metadata": {
        "id": "6CZyTTAvHtWz"
      },
      "execution_count": null,
      "outputs": []
    },
    {
      "cell_type": "markdown",
      "source": [
        "CHECK THE LINK:\n",
        "1. https://stackoverflow.com/questions/19804768/interpreting-gps-info-of-exif-data-from-photo-in-python\n"
      ],
      "metadata": {
        "id": "sWrK4BwZJNAN"
      }
    },
    {
      "cell_type": "code",
      "source": [
        "!pip install exifread"
      ],
      "metadata": {
        "colab": {
          "base_uri": "https://localhost:8080/"
        },
        "id": "0_zuzhtwJZel",
        "outputId": "f776ce2e-a611-4a7f-bf54-1f4e3140964e"
      },
      "execution_count": null,
      "outputs": [
        {
          "output_type": "stream",
          "name": "stdout",
          "text": [
            "Looking in indexes: https://pypi.org/simple, https://us-python.pkg.dev/colab-wheels/public/simple/\n",
            "Collecting exifread\n",
            "  Downloading ExifRead-3.0.0-py3-none-any.whl (40 kB)\n",
            "\u001b[2K     \u001b[90m━━━━━━━━━━━━━━━━━━━━━━━━━━━━━━━━━━━━━━━━\u001b[0m \u001b[32m40.4/40.4 KB\u001b[0m \u001b[31m3.6 MB/s\u001b[0m eta \u001b[36m0:00:00\u001b[0m\n",
            "\u001b[?25hInstalling collected packages: exifread\n",
            "Successfully installed exifread-3.0.0\n"
          ]
        }
      ]
    },
    {
      "cell_type": "code",
      "source": [
        "import exifread as ef\n",
        "\n",
        "\n",
        "# barrowed from\n",
        "# https://gist.github.com/snakeye/fdc372dbf11370fe29eb\n",
        "def _convert_to_degress(value):\n",
        "    \"\"\"\n",
        "    Helper function to convert the GPS coordinates stored in the EXIF to degress in float format\n",
        "    :param value:\n",
        "    :type value: exifread.utils.Ratio\n",
        "    :rtype: float\n",
        "    \"\"\"\n",
        "    d = float(value.values[0].num) / float(value.values[0].den)\n",
        "    m = float(value.values[1].num) / float(value.values[1].den)\n",
        "    s = float(value.values[2].num) / float(value.values[2].den)\n",
        "\n",
        "    return d + (m / 60.0) + (s / 3600.0)\n",
        "\n",
        "\n",
        "def getGPS(filepath):\n",
        "    '''\n",
        "    returns gps data if present other wise returns empty dictionary\n",
        "    '''\n",
        "    with open(filepath, 'rb') as f:\n",
        "        tags = ef.process_file(f)\n",
        "        latitude = tags.get('GPS GPSLatitude')\n",
        "        latitude_ref = tags.get('GPS GPSLatitudeRef')\n",
        "        longitude = tags.get('GPS GPSLongitude')\n",
        "        longitude_ref = tags.get('GPS GPSLongitudeRef')\n",
        "        if latitude:\n",
        "            lat_value = _convert_to_degress(latitude)\n",
        "            if latitude_ref.values != 'N':\n",
        "                lat_value = -lat_value\n",
        "        else:\n",
        "            return {}\n",
        "        if longitude:\n",
        "            lon_value = _convert_to_degress(longitude)\n",
        "            if longitude_ref.values != 'E':\n",
        "                lon_value = -lon_value\n",
        "        else:\n",
        "            return {}\n",
        "        return {'latitude': lat_value, 'longitude': lon_value}\n",
        "    return {}\n"
      ],
      "metadata": {
        "id": "JAPaUn9ZHtT8"
      },
      "execution_count": null,
      "outputs": []
    },
    {
      "cell_type": "code",
      "source": [
        "gps = getGPS(\"/content/drive/MyDrive/Ctl_work/Drone/16 Aug 2022/dji_export_1660650843529.jpg\")\n",
        "gps"
      ],
      "metadata": {
        "colab": {
          "base_uri": "https://localhost:8080/"
        },
        "id": "Mw8w_E9QHtRE",
        "outputId": "86463b27-d688-4f35-9043-ff66fa47b5e1"
      },
      "execution_count": null,
      "outputs": [
        {
          "output_type": "execute_result",
          "data": {
            "text/plain": [
              "{'latitude': 23.785772833333336, 'longitude': 90.47959994444444}"
            ]
          },
          "metadata": {},
          "execution_count": 13
        }
      ]
    },
    {
      "cell_type": "code",
      "source": [
        "gps2=getGPS(\"/content/drive/MyDrive/Ctl_work/Drone/16 Aug 2022/dji_export_1660650852925.jpg\")\n",
        "gps2"
      ],
      "metadata": {
        "colab": {
          "base_uri": "https://localhost:8080/"
        },
        "id": "_-6cpcViHtMz",
        "outputId": "1e5b8577-8582-49a1-fbdc-fd6d6de3aac4"
      },
      "execution_count": null,
      "outputs": [
        {
          "output_type": "execute_result",
          "data": {
            "text/plain": [
              "{'latitude': 23.80078275, 'longitude': 90.48808966666667}"
            ]
          },
          "metadata": {},
          "execution_count": 14
        }
      ]
    },
    {
      "cell_type": "code",
      "source": [
        "gps3=getGPS(\"/content/drive/MyDrive/Ctl_work/Drone/Edit Geodata to drone images/2023_01_30_12_15_42_Cache_frame00001.jpg\")\n",
        "gps3"
      ],
      "metadata": {
        "colab": {
          "base_uri": "https://localhost:8080/"
        },
        "id": "2TvPN9N2HtKM",
        "outputId": "028dfb30-1aa0-422b-ff1d-f5b94c86c2de"
      },
      "execution_count": null,
      "outputs": [
        {
          "output_type": "execute_result",
          "data": {
            "text/plain": [
              "{}"
            ]
          },
          "metadata": {},
          "execution_count": 15
        }
      ]
    },
    {
      "cell_type": "markdown",
      "source": [
        "###the link : https://towardsdatascience.com/read-and-edit-image-metadata-with-python-f635398cd991\n"
      ],
      "metadata": {
        "id": "yOkuuCxwcDuX"
      }
    },
    {
      "cell_type": "code",
      "source": [
        "!pip install exif"
      ],
      "metadata": {
        "colab": {
          "base_uri": "https://localhost:8080/"
        },
        "id": "t1D1ix_hV8mP",
        "outputId": "440649e0-1a48-42e2-e196-cf27b60affa8"
      },
      "execution_count": null,
      "outputs": [
        {
          "output_type": "stream",
          "name": "stdout",
          "text": [
            "Looking in indexes: https://pypi.org/simple, https://us-python.pkg.dev/colab-wheels/public/simple/\n",
            "Collecting exif\n",
            "  Downloading exif-1.6.0-py3-none-any.whl (30 kB)\n",
            "Collecting plum-py<2.0.0,>=0.5.0\n",
            "  Downloading plum_py-0.8.5-py3-none-any.whl (93 kB)\n",
            "\u001b[2K     \u001b[90m━━━━━━━━━━━━━━━━━━━━━━━━━━━━━━━━━━━━━━━━\u001b[0m \u001b[32m93.9/93.9 KB\u001b[0m \u001b[31m5.5 MB/s\u001b[0m eta \u001b[36m0:00:00\u001b[0m\n",
            "\u001b[?25hInstalling collected packages: plum-py, exif\n",
            "Successfully installed exif-1.6.0 plum-py-0.8.5\n"
          ]
        }
      ]
    },
    {
      "cell_type": "code",
      "source": [
        "!pip install opencv-python\n",
        "import cv2"
      ],
      "metadata": {
        "colab": {
          "base_uri": "https://localhost:8080/"
        },
        "id": "sVrwbx98oxfI",
        "outputId": "ef8bd7cc-f89e-4ba5-add7-d8f605fa0062"
      },
      "execution_count": null,
      "outputs": [
        {
          "output_type": "stream",
          "name": "stdout",
          "text": [
            "Looking in indexes: https://pypi.org/simple, https://us-python.pkg.dev/colab-wheels/public/simple/\n",
            "Requirement already satisfied: opencv-python in /usr/local/lib/python3.8/dist-packages (4.6.0.66)\n",
            "Requirement already satisfied: numpy>=1.17.3 in /usr/local/lib/python3.8/dist-packages (from opencv-python) (1.21.6)\n"
          ]
        }
      ]
    },
    {
      "cell_type": "code",
      "source": [
        "from exif import Image\n"
      ],
      "metadata": {
        "id": "WwyLLN2kHtF7"
      },
      "execution_count": null,
      "outputs": []
    },
    {
      "cell_type": "code",
      "source": [
        "#drone images for Dhaka university!\n",
        "img_path=\"/content/drive/MyDrive/Ctl_work/Drone/Edit Geodata to drone images/2023_01_30_12_15_42_Cache_frame00001.jpg\"\n",
        "\n",
        "with open(img_path, \"rb\") as img_file:\n",
        "  img=Image(img_file)"
      ],
      "metadata": {
        "id": "HeNoPPSkHtDL"
      },
      "execution_count": null,
      "outputs": []
    },
    {
      "cell_type": "code",
      "source": [
        "#List all EXIF tags contained in the image\n",
        "sorted(img.list_all())"
      ],
      "metadata": {
        "colab": {
          "base_uri": "https://localhost:8080/"
        },
        "id": "pWOcy7MAHtAT",
        "outputId": "07cf5bde-5bff-4f26-92d5-42b531993fd8"
      },
      "execution_count": null,
      "outputs": [
        {
          "output_type": "execute_result",
          "data": {
            "text/plain": [
              "['_exif_ifd_pointer', 'datetime_original', 'subsec_time_original']"
            ]
          },
          "metadata": {},
          "execution_count": 23
        }
      ]
    },
    {
      "cell_type": "code",
      "source": [
        "img_seeing=cv2.imread(\"/content/drive/MyDrive/Ctl_work/Drone/Edit Geodata to drone images/2023_01_30_12_15_42_Cache_frame00001.jpg\")\n",
        "img_seeing"
      ],
      "metadata": {
        "colab": {
          "base_uri": "https://localhost:8080/"
        },
        "id": "DPZp_8gepPqI",
        "outputId": "af9476fd-e5a7-4ae4-e464-0de9c95a5e69"
      },
      "execution_count": null,
      "outputs": [
        {
          "output_type": "execute_result",
          "data": {
            "text/plain": [
              "array([[[ 21,  26,  47],\n",
              "        [ 20,  25,  46],\n",
              "        [ 23,  28,  49],\n",
              "        ...,\n",
              "        [157, 172, 181],\n",
              "        [154, 169, 178],\n",
              "        [150, 165, 174]],\n",
              "\n",
              "       [[ 21,  26,  47],\n",
              "        [ 21,  26,  47],\n",
              "        [ 25,  30,  51],\n",
              "        ...,\n",
              "        [143, 158, 167],\n",
              "        [142, 157, 166],\n",
              "        [133, 148, 157]],\n",
              "\n",
              "       [[ 22,  27,  48],\n",
              "        [ 20,  25,  46],\n",
              "        [ 25,  30,  51],\n",
              "        ...,\n",
              "        [143, 158, 167],\n",
              "        [143, 158, 167],\n",
              "        [142, 157, 166]],\n",
              "\n",
              "       ...,\n",
              "\n",
              "       [[ 85,  90,  89],\n",
              "        [ 86,  91,  90],\n",
              "        [ 85,  90,  89],\n",
              "        ...,\n",
              "        [ 73,  99, 116],\n",
              "        [ 94, 120, 137],\n",
              "        [101, 127, 144]],\n",
              "\n",
              "       [[109, 116, 113],\n",
              "        [110, 117, 114],\n",
              "        [110, 117, 114],\n",
              "        ...,\n",
              "        [ 94, 120, 137],\n",
              "        [ 89, 115, 132],\n",
              "        [107, 133, 150]],\n",
              "\n",
              "       [[123, 130, 127],\n",
              "        [125, 132, 129],\n",
              "        [124, 131, 128],\n",
              "        ...,\n",
              "        [ 98, 124, 141],\n",
              "        [104, 130, 147],\n",
              "        [111, 137, 154]]], dtype=uint8)"
            ]
          },
          "metadata": {},
          "execution_count": 57
        }
      ]
    },
    {
      "cell_type": "code",
      "source": [
        "print(type(img_seeing))"
      ],
      "metadata": {
        "colab": {
          "base_uri": "https://localhost:8080/"
        },
        "id": "5TKVUxzsprAX",
        "outputId": "12b2add6-f264-4f37-f5e5-82dd635bdd47"
      },
      "execution_count": null,
      "outputs": [
        {
          "output_type": "stream",
          "name": "stdout",
          "text": [
            "<class 'numpy.ndarray'>\n"
          ]
        }
      ]
    },
    {
      "cell_type": "code",
      "source": [
        "#img1_DU=cv2.imshow(\"/content/drive/MyDrive/Ctl_work/Drone/Edit Geodata to drone images/2023_01_30_12_15_42_Cache_frame00001.jpg\")\n",
        "#img1_DU\n"
      ],
      "metadata": {
        "id": "hxs-qILUryUg"
      },
      "execution_count": null,
      "outputs": []
    },
    {
      "cell_type": "markdown",
      "source": [
        "##Error solution that I found: https://stackoverflow.com/questions/65827830/disabledfunctionerror-cv2-imshow-is-disabled-in-colab-because-it-causes-jupy"
      ],
      "metadata": {
        "id": "2jPXacbEuCLA"
      }
    },
    {
      "cell_type": "code",
      "source": [],
      "metadata": {
        "id": "FaBEM36SuB4_"
      },
      "execution_count": null,
      "outputs": []
    },
    {
      "cell_type": "code",
      "source": [
        "#Make of device which captured image\n",
        "print(f'Make: {img.get(\"make\")}')"
      ],
      "metadata": {
        "colab": {
          "base_uri": "https://localhost:8080/"
        },
        "id": "bX1Lfh1bHs88",
        "outputId": "f629e974-1c21-4d50-cd5e-3fb48643e31f"
      },
      "execution_count": null,
      "outputs": [
        {
          "output_type": "stream",
          "name": "stdout",
          "text": [
            "Make: None\n"
          ]
        }
      ]
    },
    {
      "cell_type": "code",
      "source": [
        "#Model of device which captured image\n",
        "print(f'Model: {img.get(\"model\")}')"
      ],
      "metadata": {
        "colab": {
          "base_uri": "https://localhost:8080/"
        },
        "id": "Ycz6h5PaYL4z",
        "outputId": "6d568b07-a9af-490e-fc51-6317b67a0959"
      },
      "execution_count": null,
      "outputs": [
        {
          "output_type": "stream",
          "name": "stdout",
          "text": [
            "Model: None\n"
          ]
        }
      ]
    },
    {
      "cell_type": "code",
      "source": [
        "#software involved in uploading and digitizing image\n",
        "print(f'Software: {img.get(\"software\")}')"
      ],
      "metadata": {
        "colab": {
          "base_uri": "https://localhost:8080/"
        },
        "id": "_Z77el7JYL3X",
        "outputId": "6605369c-e897-400f-d9b8-5ed63dbd633c"
      },
      "execution_count": null,
      "outputs": [
        {
          "output_type": "stream",
          "name": "stdout",
          "text": [
            "Software: None\n"
          ]
        }
      ]
    },
    {
      "cell_type": "code",
      "source": [
        "#Name of photographer who took the image\n",
        "print(f'Artist: {img.get(\"artist\")}')"
      ],
      "metadata": {
        "colab": {
          "base_uri": "https://localhost:8080/"
        },
        "id": "kjn8C9m7YL0v",
        "outputId": "40cc4a53-e03a-43f4-bcff-411603bbbd26"
      },
      "execution_count": null,
      "outputs": [
        {
          "output_type": "stream",
          "name": "stdout",
          "text": [
            "Artist: None\n"
          ]
        }
      ]
    },
    {
      "cell_type": "code",
      "source": [
        "#Original datetime that image was taken (photographed)\n",
        "print(f'DateTime(Original):{img.get(\"datetime_original\")}')"
      ],
      "metadata": {
        "colab": {
          "base_uri": "https://localhost:8080/"
        },
        "id": "ZJnPuhWzYLyj",
        "outputId": "96efb661-5010-4dcc-f88f-33a1f2454c50"
      },
      "execution_count": null,
      "outputs": [
        {
          "output_type": "stream",
          "name": "stdout",
          "text": [
            "DateTime(Original):2023:02:17 17:50:29\n"
          ]
        }
      ]
    },
    {
      "cell_type": "code",
      "source": [
        "#gps latitude and gps longitude of the image\n",
        "print(f'Latitude: {img.get(\"gps_latitude\")}')\n",
        "print(f'Longitude: {img.get(\"gps_longitude\")}')\n",
        "print(f'Altitude: {img.get(\"gps_altitude\")}')"
      ],
      "metadata": {
        "colab": {
          "base_uri": "https://localhost:8080/"
        },
        "id": "gRsZAjCk_f3w",
        "outputId": "1b8dec83-0955-4dc4-c0b8-d5e97f3a9efe"
      },
      "execution_count": null,
      "outputs": [
        {
          "output_type": "stream",
          "name": "stdout",
          "text": [
            "Latitude: None\n",
            "Longitude: None\n",
            "Altitude: None\n"
          ]
        }
      ]
    },
    {
      "cell_type": "code",
      "source": [],
      "metadata": {
        "id": "6UdLzG17_zT0"
      },
      "execution_count": null,
      "outputs": []
    },
    {
      "cell_type": "markdown",
      "source": [
        "#####Modifying Image metadata of DU university!\n",
        "\n",
        "####For adding GPS Location: https://gis.stackexchange.com/questions/362496/how-do-i-change-this-exif-data-into-long-and-lat\n"
      ],
      "metadata": {
        "id": "sJTNVN2Ud4Ts"
      }
    },
    {
      "cell_type": "code",
      "source": [
        "!pip install piexif\n",
        "\n",
        "import piexif\n",
        "#from fractions import Fraction"
      ],
      "metadata": {
        "colab": {
          "base_uri": "https://localhost:8080/"
        },
        "id": "12i-C-OUMDbF",
        "outputId": "6fcbec38-e41a-43dc-c6f5-d1291bf14da5"
      },
      "execution_count": null,
      "outputs": [
        {
          "output_type": "stream",
          "name": "stdout",
          "text": [
            "Looking in indexes: https://pypi.org/simple, https://us-python.pkg.dev/colab-wheels/public/simple/\n",
            "Requirement already satisfied: piexif in /usr/local/lib/python3.8/dist-packages (1.1.3)\n"
          ]
        }
      ]
    },
    {
      "cell_type": "code",
      "source": [
        "img.gps_latitude = (23.0, 43.0, 39.11)\n",
        "img.gps_latitude_ref = \"N\"\n",
        "img.gps_longitude = (90.0, 23, 58.0344)\n",
        "img.gps_longitude_ref = \"E\"\n",
        "img.gps_altitude = 40.0 # in meters\n",
        "img.gps_altitude_ref = GpsAltitudeRef.ABOVE_SEA_LEVEL\n",
        "\n",
        "# Then, save image to desired location using code discussed above."
      ],
      "metadata": {
        "colab": {
          "base_uri": "https://localhost:8080/",
          "height": 432
        },
        "id": "S1jwCRKISq4L",
        "outputId": "784b085a-40f6-4551-d144-4943076199e3"
      },
      "execution_count": null,
      "outputs": [
        {
          "output_type": "error",
          "ename": "RuntimeError",
          "evalue": "ignored",
          "traceback": [
            "\u001b[0;31m---------------------------------------------------------------------------\u001b[0m",
            "\u001b[0;31mKeyError\u001b[0m                                  Traceback (most recent call last)",
            "\u001b[0;32m/usr/local/lib/python3.8/dist-packages/exif/_app1_metadata.py\u001b[0m in \u001b[0;36m__setattr__\u001b[0;34m(self, key, value)\u001b[0m\n\u001b[1;32m    610\u001b[0m             \u001b[0;32mtry\u001b[0m\u001b[0;34m:\u001b[0m\u001b[0;34m\u001b[0m\u001b[0;34m\u001b[0m\u001b[0m\n\u001b[0;32m--> 611\u001b[0;31m                 \u001b[0mifd_tag\u001b[0m \u001b[0;34m=\u001b[0m \u001b[0mself\u001b[0m\u001b[0;34m.\u001b[0m\u001b[0mifd_tags\u001b[0m\u001b[0;34m[\u001b[0m\u001b[0mattribute_id\u001b[0m\u001b[0;34m]\u001b[0m\u001b[0;34m\u001b[0m\u001b[0;34m\u001b[0m\u001b[0m\n\u001b[0m\u001b[1;32m    612\u001b[0m             \u001b[0;32mexcept\u001b[0m \u001b[0mKeyError\u001b[0m\u001b[0;34m:\u001b[0m\u001b[0;34m\u001b[0m\u001b[0;34m\u001b[0m\u001b[0m\n",
            "\u001b[0;31mKeyError\u001b[0m: 2",
            "\nDuring handling of the above exception, another exception occurred:\n",
            "\u001b[0;31mRuntimeError\u001b[0m                              Traceback (most recent call last)",
            "\u001b[0;32m<ipython-input-83-cd77c88ff1fc>\u001b[0m in \u001b[0;36m<module>\u001b[0;34m\u001b[0m\n\u001b[0;32m----> 1\u001b[0;31m \u001b[0mimg\u001b[0m\u001b[0;34m.\u001b[0m\u001b[0mgps_latitude\u001b[0m \u001b[0;34m=\u001b[0m \u001b[0;34m(\u001b[0m\u001b[0;36m23.0\u001b[0m\u001b[0;34m,\u001b[0m \u001b[0;36m43.0\u001b[0m\u001b[0;34m,\u001b[0m \u001b[0;36m39.11\u001b[0m\u001b[0;34m)\u001b[0m\u001b[0;34m\u001b[0m\u001b[0;34m\u001b[0m\u001b[0m\n\u001b[0m\u001b[1;32m      2\u001b[0m \u001b[0mimg\u001b[0m\u001b[0;34m.\u001b[0m\u001b[0mgps_latitude_ref\u001b[0m \u001b[0;34m=\u001b[0m \u001b[0;34m\"N\"\u001b[0m\u001b[0;34m\u001b[0m\u001b[0;34m\u001b[0m\u001b[0m\n\u001b[1;32m      3\u001b[0m \u001b[0mimg\u001b[0m\u001b[0;34m.\u001b[0m\u001b[0mgps_longitude\u001b[0m \u001b[0;34m=\u001b[0m \u001b[0;34m(\u001b[0m\u001b[0;36m90.0\u001b[0m\u001b[0;34m,\u001b[0m \u001b[0;36m23\u001b[0m\u001b[0;34m,\u001b[0m \u001b[0;36m58.0344\u001b[0m\u001b[0;34m)\u001b[0m\u001b[0;34m\u001b[0m\u001b[0;34m\u001b[0m\u001b[0m\n\u001b[1;32m      4\u001b[0m \u001b[0mimg\u001b[0m\u001b[0;34m.\u001b[0m\u001b[0mgps_longitude_ref\u001b[0m \u001b[0;34m=\u001b[0m \u001b[0;34m\"E\"\u001b[0m\u001b[0;34m\u001b[0m\u001b[0;34m\u001b[0m\u001b[0m\n\u001b[1;32m      5\u001b[0m \u001b[0mimg\u001b[0m\u001b[0;34m.\u001b[0m\u001b[0mgps_altitude\u001b[0m \u001b[0;34m=\u001b[0m \u001b[0;36m40.0\u001b[0m \u001b[0;31m# in meters\u001b[0m\u001b[0;34m\u001b[0m\u001b[0;34m\u001b[0m\u001b[0m\n",
            "\u001b[0;32m/usr/local/lib/python3.8/dist-packages/exif/_image.py\u001b[0m in \u001b[0;36m__setattr__\u001b[0;34m(self, key, value)\u001b[0m\n\u001b[1;32m    114\u001b[0m                 \u001b[0mself\u001b[0m\u001b[0;34m.\u001b[0m\u001b[0m_has_exif\u001b[0m \u001b[0;34m=\u001b[0m \u001b[0;32mTrue\u001b[0m\u001b[0;34m\u001b[0m\u001b[0;34m\u001b[0m\u001b[0m\n\u001b[1;32m    115\u001b[0m \u001b[0;34m\u001b[0m\u001b[0m\n\u001b[0;32m--> 116\u001b[0;31m             \u001b[0msetattr\u001b[0m\u001b[0;34m(\u001b[0m\u001b[0mself\u001b[0m\u001b[0;34m.\u001b[0m\u001b[0m_segments\u001b[0m\u001b[0;34m[\u001b[0m\u001b[0;34m\"APP1\"\u001b[0m\u001b[0;34m]\u001b[0m\u001b[0;34m,\u001b[0m \u001b[0mkey\u001b[0m\u001b[0;34m.\u001b[0m\u001b[0mlower\u001b[0m\u001b[0;34m(\u001b[0m\u001b[0;34m)\u001b[0m\u001b[0;34m,\u001b[0m \u001b[0mvalue\u001b[0m\u001b[0;34m)\u001b[0m\u001b[0;34m\u001b[0m\u001b[0;34m\u001b[0m\u001b[0m\n\u001b[0m\u001b[1;32m    117\u001b[0m \u001b[0;34m\u001b[0m\u001b[0m\n\u001b[1;32m    118\u001b[0m     \u001b[0;32mdef\u001b[0m \u001b[0m__delattr__\u001b[0m\u001b[0;34m(\u001b[0m\u001b[0mself\u001b[0m\u001b[0;34m,\u001b[0m \u001b[0mitem\u001b[0m\u001b[0;34m)\u001b[0m\u001b[0;34m:\u001b[0m\u001b[0;34m\u001b[0m\u001b[0;34m\u001b[0m\u001b[0m\n",
            "\u001b[0;32m/usr/local/lib/python3.8/dist-packages/exif/_app1_metadata.py\u001b[0m in \u001b[0;36m__setattr__\u001b[0;34m(self, key, value)\u001b[0m\n\u001b[1;32m    612\u001b[0m             \u001b[0;32mexcept\u001b[0m \u001b[0mKeyError\u001b[0m\u001b[0;34m:\u001b[0m\u001b[0;34m\u001b[0m\u001b[0;34m\u001b[0m\u001b[0m\n\u001b[1;32m    613\u001b[0m                 \u001b[0;31m# Tag is not in image already.\u001b[0m\u001b[0;34m\u001b[0m\u001b[0;34m\u001b[0m\u001b[0;34m\u001b[0m\u001b[0m\n\u001b[0;32m--> 614\u001b[0;31m                 \u001b[0mself\u001b[0m\u001b[0;34m.\u001b[0m\u001b[0m_add_tag\u001b[0m\u001b[0;34m(\u001b[0m\u001b[0mkey\u001b[0m\u001b[0;34m,\u001b[0m \u001b[0mvalue\u001b[0m\u001b[0;34m)\u001b[0m\u001b[0;34m\u001b[0m\u001b[0;34m\u001b[0m\u001b[0m\n\u001b[0m\u001b[1;32m    615\u001b[0m             \u001b[0;32melse\u001b[0m\u001b[0;34m:\u001b[0m\u001b[0;34m\u001b[0m\u001b[0;34m\u001b[0m\u001b[0m\n\u001b[1;32m    616\u001b[0m                 \u001b[0;32mtry\u001b[0m\u001b[0;34m:\u001b[0m\u001b[0;34m\u001b[0m\u001b[0;34m\u001b[0m\u001b[0m\n",
            "\u001b[0;32m/usr/local/lib/python3.8/dist-packages/exif/_app1_metadata.py\u001b[0m in \u001b[0;36m_add_tag\u001b[0;34m(self, tag, value)\u001b[0m\n\u001b[1;32m    130\u001b[0m \u001b[0;34m\u001b[0m\u001b[0m\n\u001b[1;32m    131\u001b[0m         \u001b[0;32mif\u001b[0m \u001b[0mifd_number\u001b[0m \u001b[0;32mnot\u001b[0m \u001b[0;32min\u001b[0m \u001b[0mself\u001b[0m\u001b[0;34m.\u001b[0m\u001b[0mifd_pointers\u001b[0m\u001b[0;34m:\u001b[0m\u001b[0;34m\u001b[0m\u001b[0;34m\u001b[0m\u001b[0m\n\u001b[0;32m--> 132\u001b[0;31m             \u001b[0mself\u001b[0m\u001b[0;34m.\u001b[0m\u001b[0m_add_empty_ifd\u001b[0m\u001b[0;34m(\u001b[0m\u001b[0mifd_number\u001b[0m\u001b[0;34m)\u001b[0m\u001b[0;34m\u001b[0m\u001b[0;34m\u001b[0m\u001b[0m\n\u001b[0m\u001b[1;32m    133\u001b[0m \u001b[0;34m\u001b[0m\u001b[0m\n\u001b[1;32m    134\u001b[0m         \u001b[0;31m# Make a list of all IFDs that will need to be re-packed with touched up pointers.\u001b[0m\u001b[0;34m\u001b[0m\u001b[0;34m\u001b[0m\u001b[0;34m\u001b[0m\u001b[0m\n",
            "\u001b[0;32m/usr/local/lib/python3.8/dist-packages/exif/_app1_metadata.py\u001b[0m in \u001b[0;36m_add_empty_ifd\u001b[0;34m(self, ifd)\u001b[0m\n\u001b[1;32m     57\u001b[0m \u001b[0;34m\u001b[0m\u001b[0m\n\u001b[1;32m     58\u001b[0m         \u001b[0;32mif\u001b[0m \u001b[0;36m1\u001b[0m \u001b[0;32mnot\u001b[0m \u001b[0;32min\u001b[0m \u001b[0mself\u001b[0m\u001b[0;34m.\u001b[0m\u001b[0mifd_pointers\u001b[0m\u001b[0;34m:\u001b[0m\u001b[0;34m\u001b[0m\u001b[0;34m\u001b[0m\u001b[0m\n\u001b[0;32m---> 59\u001b[0;31m             \u001b[0;32mraise\u001b[0m \u001b[0mRuntimeError\u001b[0m\u001b[0;34m(\u001b[0m\u001b[0;34m\"can't yet add to images without a subsequent IFD 1\"\u001b[0m\u001b[0;34m)\u001b[0m\u001b[0;34m\u001b[0m\u001b[0;34m\u001b[0m\u001b[0m\n\u001b[0m\u001b[1;32m     60\u001b[0m \u001b[0;34m\u001b[0m\u001b[0m\n\u001b[1;32m     61\u001b[0m         \u001b[0;32mif\u001b[0m \u001b[0mself\u001b[0m\u001b[0;34m.\u001b[0m\u001b[0mendianness\u001b[0m \u001b[0;34m==\u001b[0m \u001b[0mTiffByteOrder\u001b[0m\u001b[0;34m.\u001b[0m\u001b[0mBIG\u001b[0m\u001b[0;34m:\u001b[0m\u001b[0;34m\u001b[0m\u001b[0;34m\u001b[0m\u001b[0m\n",
            "\u001b[0;31mRuntimeError\u001b[0m: can't yet add to images without a subsequent IFD 1"
          ]
        }
      ]
    },
    {
      "cell_type": "markdown",
      "source": [
        "###Issues I Found: https://gitlab.com/TNThieding/exif/-/issues/47\n"
      ],
      "metadata": {
        "id": "UXAGByiMYQI6"
      }
    },
    {
      "cell_type": "code",
      "source": [
        "#Adding Metadata\n",
        "\n",
        "#Add new attribute (copyright)\n",
        "img.copyright=\"Mariha Tabassum 2023\"\n",
        "\n",
        "#check updated metadata\n",
        "print(f'Copyright: {img.get(\"copyright\")}')"
      ],
      "metadata": {
        "colab": {
          "base_uri": "https://localhost:8080/"
        },
        "id": "SRYKLBkadUgN",
        "outputId": "e0fe4f2a-7472-4872-b9d2-b534ed5a7e5f"
      },
      "execution_count": null,
      "outputs": [
        {
          "output_type": "stream",
          "name": "stdout",
          "text": [
            "Copyright: Mariha Tabassum 2023\n"
          ]
        }
      ]
    },
    {
      "cell_type": "code",
      "source": [
        "#update metadata\n",
        "\n",
        "#view existing value for artist attribute\n",
        "print(f'Artist-Before: {img.get(\"artist\")}')\n",
        "\n",
        "#update name of artist attribute\n",
        "img.artist=\"Sanib and Suhaib\"\n",
        "\n",
        "#Check updated metadata\n",
        "print(f'Artist-After:{img.get(\"artist\")}')"
      ],
      "metadata": {
        "colab": {
          "base_uri": "https://localhost:8080/"
        },
        "id": "F3LWgE6HdUc2",
        "outputId": "ad7164a3-5a1c-4f97-c5e8-53ceafcb6123"
      },
      "execution_count": null,
      "outputs": [
        {
          "output_type": "stream",
          "name": "stdout",
          "text": [
            "Artist-Before: Sanib and Suhaib\n",
            "artist-After:Sanib and Suhaib\n"
          ]
        }
      ]
    },
    {
      "cell_type": "code",
      "source": [
        "#Delete Metadata\n",
        "\n",
        "#view existing value for body_serial_number attribute\n",
        "print(f'Body Serial Number-Before: {img.get(\"body_serial_number\")}')\n",
        "\n",
        "#Its already deleted! no need to delte metadata of Body_serial_number\n",
        "#but the code would be for deleting the attribute\n",
        "#img.delete('body_serial_number')\n",
        "#check updated metadata\n",
        "#print (f'Body Serial Number-after: {img.get(\"body_serial_number\")}')"
      ],
      "metadata": {
        "colab": {
          "base_uri": "https://localhost:8080/"
        },
        "id": "TMNYn83pdUaU",
        "outputId": "05a85cb4-6c91-4718-afb0-0e5beec7ec57"
      },
      "execution_count": null,
      "outputs": [
        {
          "output_type": "stream",
          "name": "stdout",
          "text": [
            "Body Serial Number-Before: None\n"
          ]
        }
      ]
    },
    {
      "cell_type": "code",
      "source": [
        "#checking if the image got modified!\n",
        "sorted(img.list_all())"
      ],
      "metadata": {
        "colab": {
          "base_uri": "https://localhost:8080/"
        },
        "id": "1gvGraL-kMkc",
        "outputId": "5c4281ef-315b-47d5-b84d-154b63930874"
      },
      "execution_count": null,
      "outputs": [
        {
          "output_type": "execute_result",
          "data": {
            "text/plain": [
              "['_exif_ifd_pointer',\n",
              " 'artist',\n",
              " 'copyright',\n",
              " 'datetime_original',\n",
              " 'subsec_time_original']"
            ]
          },
          "metadata": {},
          "execution_count": 45
        }
      ]
    },
    {
      "cell_type": "code",
      "source": [
        "#Save Modified Image metadata\n",
        "\n",
        "#write image with modified EXIF metadata to an image file\n",
        "\n",
        "with open(img_path, \"wb\") as modified_img_file:\n",
        "  modified_img_file.write(img.get_file())"
      ],
      "metadata": {
        "id": "jkAFis2SdUYU"
      },
      "execution_count": null,
      "outputs": []
    },
    {
      "cell_type": "code",
      "source": [],
      "metadata": {
        "id": "P3Go4sdRdUTU"
      },
      "execution_count": null,
      "outputs": []
    },
    {
      "cell_type": "code",
      "source": [],
      "metadata": {
        "id": "Piujn78TdUQe"
      },
      "execution_count": null,
      "outputs": []
    },
    {
      "cell_type": "code",
      "source": [],
      "metadata": {
        "id": "U1qAndbYdUJ2"
      },
      "execution_count": null,
      "outputs": []
    },
    {
      "cell_type": "markdown",
      "source": [
        "##### FOR BALU RIVER"
      ],
      "metadata": {
        "id": "6NQuGyZ6dVb0"
      }
    },
    {
      "cell_type": "code",
      "source": [
        "#for drone images captured at balu river\n",
        "img_path2=\"/content/drive/MyDrive/Ctl_work/Drone/16 Aug 2022/dji_export_1660650844564.jpg\"\n",
        "\n",
        "with open(img_path2, \"rb\") as img_file:\n",
        "  img2=Image(img_file)"
      ],
      "metadata": {
        "id": "Tu7WylVFYLxB"
      },
      "execution_count": null,
      "outputs": []
    },
    {
      "cell_type": "code",
      "source": [
        "#List all EXIF tags contained in the image\n",
        "sorted(img2.list_all())"
      ],
      "metadata": {
        "colab": {
          "base_uri": "https://localhost:8080/"
        },
        "id": "grHJUdnsYLuN",
        "outputId": "a1c798c8-a5db-45cf-b8fd-12284b0c9c08"
      },
      "execution_count": null,
      "outputs": [
        {
          "output_type": "execute_result",
          "data": {
            "text/plain": [
              "['_exif_ifd_pointer',\n",
              " '_gps_ifd_pointer',\n",
              " '_interoperability_ifd_Pointer',\n",
              " 'bits_per_sample',\n",
              " 'body_serial_number',\n",
              " 'color_space',\n",
              " 'components_configuration',\n",
              " 'compression',\n",
              " 'contrast',\n",
              " 'datetime',\n",
              " 'datetime_digitized',\n",
              " 'datetime_original',\n",
              " 'device_setting_description',\n",
              " 'digital_zoom_ratio',\n",
              " 'exif_version',\n",
              " 'exposure_bias_value',\n",
              " 'exposure_mode',\n",
              " 'exposure_program',\n",
              " 'exposure_time',\n",
              " 'f_number',\n",
              " 'file_source',\n",
              " 'flash',\n",
              " 'flashpix_version',\n",
              " 'focal_length',\n",
              " 'focal_length_in_35mm_film',\n",
              " 'gain_control',\n",
              " 'gps_altitude',\n",
              " 'gps_altitude_ref',\n",
              " 'gps_latitude',\n",
              " 'gps_latitude_ref',\n",
              " 'gps_longitude',\n",
              " 'gps_longitude_ref',\n",
              " 'gps_version_id',\n",
              " 'image_description',\n",
              " 'image_height',\n",
              " 'image_width',\n",
              " 'jpeg_interchange_format',\n",
              " 'jpeg_interchange_format_length',\n",
              " 'lens_specification',\n",
              " 'light_source',\n",
              " 'make',\n",
              " 'maker_note',\n",
              " 'max_aperture_value',\n",
              " 'metering_mode',\n",
              " 'model',\n",
              " 'orientation',\n",
              " 'photographic_sensitivity',\n",
              " 'pixel_x_dimension',\n",
              " 'pixel_y_dimension',\n",
              " 'resolution_unit',\n",
              " 'samples_per_pixel',\n",
              " 'saturation',\n",
              " 'scene_capture_type',\n",
              " 'scene_type',\n",
              " 'sharpness',\n",
              " 'software',\n",
              " 'white_balance',\n",
              " 'x_resolution',\n",
              " 'xp_comment',\n",
              " 'xp_keywords',\n",
              " 'y_and_c_positioning',\n",
              " 'y_resolution']"
            ]
          },
          "metadata": {},
          "execution_count": 30
        }
      ]
    },
    {
      "cell_type": "code",
      "source": [
        "#Make of device which captured image\n",
        "print(f'Make: {img2.get(\"make\")}')"
      ],
      "metadata": {
        "colab": {
          "base_uri": "https://localhost:8080/"
        },
        "id": "f9eYZdEIYLru",
        "outputId": "8ccba376-c302-4533-e36c-e6014f91f5ec"
      },
      "execution_count": null,
      "outputs": [
        {
          "output_type": "stream",
          "name": "stdout",
          "text": [
            "Make: DJI\n"
          ]
        }
      ]
    },
    {
      "cell_type": "code",
      "source": [
        "#Model of device which captured image\n",
        "print(f'Model: {img2.get(\"model\")}')"
      ],
      "metadata": {
        "colab": {
          "base_uri": "https://localhost:8080/"
        },
        "outputId": "087b86c3-242e-4024-c98a-00f2e0609aa5",
        "id": "Q1jJ-TcHaxQp"
      },
      "execution_count": null,
      "outputs": [
        {
          "output_type": "stream",
          "name": "stdout",
          "text": [
            "Model: FC3170\n"
          ]
        }
      ]
    },
    {
      "cell_type": "code",
      "source": [
        "#software involved in uploading and digitizing image\n",
        "print(f'Software: {img2.get(\"software\")}')"
      ],
      "metadata": {
        "colab": {
          "base_uri": "https://localhost:8080/"
        },
        "id": "0Q5u6ZyjYLmG",
        "outputId": "26aa361b-030a-47b5-9242-c06da39d6a13"
      },
      "execution_count": null,
      "outputs": [
        {
          "output_type": "stream",
          "name": "stdout",
          "text": [
            "Software: 10.04.17.02\n"
          ]
        }
      ]
    },
    {
      "cell_type": "code",
      "source": [
        "#Name of photographer who took the image\n",
        "print(f'Artist: {img2.get(\"artist\")}')"
      ],
      "metadata": {
        "colab": {
          "base_uri": "https://localhost:8080/"
        },
        "id": "wgh5tez4YLjW",
        "outputId": "633fff2d-3817-4e88-adf6-9cf86e179a5a"
      },
      "execution_count": null,
      "outputs": [
        {
          "output_type": "stream",
          "name": "stdout",
          "text": [
            "Artist: None\n"
          ]
        }
      ]
    },
    {
      "cell_type": "code",
      "source": [
        "#Original datetime that image was taken (photographed)\n",
        "print(f'DateTime(Original):{img2.get(\"datetime_original\")}')"
      ],
      "metadata": {
        "colab": {
          "base_uri": "https://localhost:8080/"
        },
        "id": "6bkwfr8ya43o",
        "outputId": "98809cec-0e33-4e18-8bf0-de35e1ca46e0"
      },
      "execution_count": null,
      "outputs": [
        {
          "output_type": "stream",
          "name": "stdout",
          "text": [
            "DateTime(Original):2022:08:16 16:30:16\n"
          ]
        }
      ]
    },
    {
      "cell_type": "code",
      "source": [
        "#latitude and longitude\n",
        "print(f'Latitude:{img2.get(\"gps_latitude\")}')\n",
        "print(f'Longitude:{img2.get(\"gps_longitude\")}')"
      ],
      "metadata": {
        "colab": {
          "base_uri": "https://localhost:8080/"
        },
        "id": "G0q3uzW2IYG2",
        "outputId": "995de0da-cf28-45cb-9914-97f1a4635ced"
      },
      "execution_count": null,
      "outputs": [
        {
          "output_type": "stream",
          "name": "stdout",
          "text": [
            "Latitude:(23.0, 47.0, 54.43)\n",
            "Longitude:(90.0, 28.0, 50.5208)\n"
          ]
        }
      ]
    },
    {
      "cell_type": "markdown",
      "source": [
        "###Check this link: https://github.com/kennethleungty/Image-Metadata-Exif/blob/main/Image_Metadata_Extraction_EXIF.ipynb\n",
        "\n",
        "###Read the doc to know image attributes:\n",
        "https://exif.readthedocs.io/en/latest/api_reference.html#image-attributes"
      ],
      "metadata": {
        "id": "c51Y657Yb5JE"
      }
    },
    {
      "cell_type": "markdown",
      "source": [
        "### Extracting GPS location from google maps(could not do) or openstreetmap(succeeded)\n",
        "\n",
        "Link for extracting latitude and longitude using openstreetmap: https://stackoverflow.com/questions/25888396/how-to-get-latitude-longitude-with-python\n"
      ],
      "metadata": {
        "id": "Qxt6Tutsg_2N"
      }
    },
    {
      "cell_type": "code",
      "source": [
        "\n",
        "\n",
        "import requests\n",
        "import urllib.parse\n",
        "\n",
        "address = 'dhaka university central playground'\n",
        "url = 'https://nominatim.openstreetmap.org/search/' + urllib.parse.quote(address) +'?format=json'\n",
        "\n",
        "response = requests.get(url).json()\n",
        "print(response[0][\"lat\"])\n",
        "print(response[0][\"lon\"])"
      ],
      "metadata": {
        "colab": {
          "base_uri": "https://localhost:8080/"
        },
        "id": "l70Qn8wfa41P",
        "outputId": "8508e534-f84b-485f-a633-60c2724c800d"
      },
      "execution_count": null,
      "outputs": [
        {
          "output_type": "stream",
          "name": "stdout",
          "text": [
            "23.7269721\n",
            "90.3990828\n"
          ]
        }
      ]
    },
    {
      "cell_type": "code",
      "source": [],
      "metadata": {
        "id": "v6b94yY4a4vc"
      },
      "execution_count": null,
      "outputs": []
    },
    {
      "cell_type": "code",
      "source": [],
      "metadata": {
        "id": "VZPNteaDqq8u"
      },
      "execution_count": null,
      "outputs": []
    },
    {
      "cell_type": "code",
      "source": [],
      "metadata": {
        "id": "nPpuKMALqq4D"
      },
      "execution_count": null,
      "outputs": []
    },
    {
      "cell_type": "code",
      "source": [],
      "metadata": {
        "id": "l-yppCCNqqz7"
      },
      "execution_count": null,
      "outputs": []
    },
    {
      "cell_type": "code",
      "source": [],
      "metadata": {
        "id": "31o-teYlqqyD"
      },
      "execution_count": null,
      "outputs": []
    },
    {
      "cell_type": "code",
      "source": [],
      "metadata": {
        "id": "H6abRNfDqqwI"
      },
      "execution_count": null,
      "outputs": []
    },
    {
      "cell_type": "code",
      "source": [],
      "metadata": {
        "id": "ca9p0TdTqqtp"
      },
      "execution_count": null,
      "outputs": []
    },
    {
      "cell_type": "code",
      "source": [],
      "metadata": {
        "id": "pvUkfr0Bqqq9"
      },
      "execution_count": null,
      "outputs": []
    },
    {
      "cell_type": "code",
      "source": [],
      "metadata": {
        "id": "0N9DXP7yqqod"
      },
      "execution_count": null,
      "outputs": []
    },
    {
      "cell_type": "code",
      "source": [],
      "metadata": {
        "id": "-nWNZsOVqqlr"
      },
      "execution_count": null,
      "outputs": []
    },
    {
      "cell_type": "code",
      "source": [],
      "metadata": {
        "id": "Tj1LYRWoqqiz"
      },
      "execution_count": null,
      "outputs": []
    }
  ]
}